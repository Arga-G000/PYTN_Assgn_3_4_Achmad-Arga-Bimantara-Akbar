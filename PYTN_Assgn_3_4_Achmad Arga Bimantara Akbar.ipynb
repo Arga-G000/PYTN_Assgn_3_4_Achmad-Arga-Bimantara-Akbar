{
 "cells": [
  {
   "cell_type": "markdown",
   "id": "e32748d0",
   "metadata": {},
   "source": [
    "# Library"
   ]
  },
  {
   "cell_type": "code",
   "execution_count": 1,
   "id": "0ef72c7e",
   "metadata": {},
   "outputs": [],
   "source": [
    "import pandas as pd\n",
    "import numpy as np\n",
    "import matplotlib as mpl\n",
    "import matplotlib.pyplot as plt\n",
    "import seaborn as sns\n",
    "from sklearn.linear_model import LogisticRegression\n",
    "from sklearn.neighbors import KNeighborsClassifier\n",
    "from sklearn import svm\n",
    "from sklearn.tree import DecisionTreeClassifier\n",
    "from sklearn.ensemble import RandomForestClassifier\n",
    "from sklearn.ensemble import ExtraTreesClassifier\n",
    "from sklearn.naive_bayes import GaussianNB\n",
    "from sklearn.metrics import confusion_matrix, classification_report, accuracy_score\n",
    "from sklearn.model_selection import train_test_split\n",
    "from sklearn import preprocessing"
   ]
  },
  {
   "cell_type": "markdown",
   "id": "42683101",
   "metadata": {},
   "source": [
    "# Load Data"
   ]
  },
  {
   "cell_type": "code",
   "execution_count": 2,
   "id": "b8bb6299",
   "metadata": {},
   "outputs": [
    {
     "data": {
      "text/html": [
       "<div>\n",
       "<style scoped>\n",
       "    .dataframe tbody tr th:only-of-type {\n",
       "        vertical-align: middle;\n",
       "    }\n",
       "\n",
       "    .dataframe tbody tr th {\n",
       "        vertical-align: top;\n",
       "    }\n",
       "\n",
       "    .dataframe thead th {\n",
       "        text-align: right;\n",
       "    }\n",
       "</style>\n",
       "<table border=\"1\" class=\"dataframe\">\n",
       "  <thead>\n",
       "    <tr style=\"text-align: right;\">\n",
       "      <th></th>\n",
       "      <th>age</th>\n",
       "      <th>job</th>\n",
       "      <th>marital</th>\n",
       "      <th>education</th>\n",
       "      <th>default</th>\n",
       "      <th>balance</th>\n",
       "      <th>housing</th>\n",
       "      <th>loan</th>\n",
       "      <th>contact</th>\n",
       "      <th>day</th>\n",
       "      <th>month</th>\n",
       "      <th>duration</th>\n",
       "      <th>campaign</th>\n",
       "      <th>pdays</th>\n",
       "      <th>previous</th>\n",
       "      <th>poutcome</th>\n",
       "      <th>y</th>\n",
       "    </tr>\n",
       "  </thead>\n",
       "  <tbody>\n",
       "    <tr>\n",
       "      <th>0</th>\n",
       "      <td>30</td>\n",
       "      <td>unemployed</td>\n",
       "      <td>married</td>\n",
       "      <td>primary</td>\n",
       "      <td>no</td>\n",
       "      <td>1787</td>\n",
       "      <td>no</td>\n",
       "      <td>no</td>\n",
       "      <td>cellular</td>\n",
       "      <td>19</td>\n",
       "      <td>oct</td>\n",
       "      <td>79</td>\n",
       "      <td>1</td>\n",
       "      <td>-1</td>\n",
       "      <td>0</td>\n",
       "      <td>unknown</td>\n",
       "      <td>no</td>\n",
       "    </tr>\n",
       "    <tr>\n",
       "      <th>1</th>\n",
       "      <td>33</td>\n",
       "      <td>services</td>\n",
       "      <td>married</td>\n",
       "      <td>secondary</td>\n",
       "      <td>no</td>\n",
       "      <td>4789</td>\n",
       "      <td>yes</td>\n",
       "      <td>yes</td>\n",
       "      <td>cellular</td>\n",
       "      <td>11</td>\n",
       "      <td>may</td>\n",
       "      <td>220</td>\n",
       "      <td>1</td>\n",
       "      <td>339</td>\n",
       "      <td>4</td>\n",
       "      <td>failure</td>\n",
       "      <td>no</td>\n",
       "    </tr>\n",
       "    <tr>\n",
       "      <th>2</th>\n",
       "      <td>35</td>\n",
       "      <td>management</td>\n",
       "      <td>single</td>\n",
       "      <td>tertiary</td>\n",
       "      <td>no</td>\n",
       "      <td>1350</td>\n",
       "      <td>yes</td>\n",
       "      <td>no</td>\n",
       "      <td>cellular</td>\n",
       "      <td>16</td>\n",
       "      <td>apr</td>\n",
       "      <td>185</td>\n",
       "      <td>1</td>\n",
       "      <td>330</td>\n",
       "      <td>1</td>\n",
       "      <td>failure</td>\n",
       "      <td>no</td>\n",
       "    </tr>\n",
       "    <tr>\n",
       "      <th>3</th>\n",
       "      <td>30</td>\n",
       "      <td>management</td>\n",
       "      <td>married</td>\n",
       "      <td>tertiary</td>\n",
       "      <td>no</td>\n",
       "      <td>1476</td>\n",
       "      <td>yes</td>\n",
       "      <td>yes</td>\n",
       "      <td>unknown</td>\n",
       "      <td>3</td>\n",
       "      <td>jun</td>\n",
       "      <td>199</td>\n",
       "      <td>4</td>\n",
       "      <td>-1</td>\n",
       "      <td>0</td>\n",
       "      <td>unknown</td>\n",
       "      <td>no</td>\n",
       "    </tr>\n",
       "    <tr>\n",
       "      <th>4</th>\n",
       "      <td>59</td>\n",
       "      <td>blue-collar</td>\n",
       "      <td>married</td>\n",
       "      <td>secondary</td>\n",
       "      <td>no</td>\n",
       "      <td>0</td>\n",
       "      <td>yes</td>\n",
       "      <td>no</td>\n",
       "      <td>unknown</td>\n",
       "      <td>5</td>\n",
       "      <td>may</td>\n",
       "      <td>226</td>\n",
       "      <td>1</td>\n",
       "      <td>-1</td>\n",
       "      <td>0</td>\n",
       "      <td>unknown</td>\n",
       "      <td>no</td>\n",
       "    </tr>\n",
       "    <tr>\n",
       "      <th>...</th>\n",
       "      <td>...</td>\n",
       "      <td>...</td>\n",
       "      <td>...</td>\n",
       "      <td>...</td>\n",
       "      <td>...</td>\n",
       "      <td>...</td>\n",
       "      <td>...</td>\n",
       "      <td>...</td>\n",
       "      <td>...</td>\n",
       "      <td>...</td>\n",
       "      <td>...</td>\n",
       "      <td>...</td>\n",
       "      <td>...</td>\n",
       "      <td>...</td>\n",
       "      <td>...</td>\n",
       "      <td>...</td>\n",
       "      <td>...</td>\n",
       "    </tr>\n",
       "    <tr>\n",
       "      <th>4516</th>\n",
       "      <td>33</td>\n",
       "      <td>services</td>\n",
       "      <td>married</td>\n",
       "      <td>secondary</td>\n",
       "      <td>no</td>\n",
       "      <td>-333</td>\n",
       "      <td>yes</td>\n",
       "      <td>no</td>\n",
       "      <td>cellular</td>\n",
       "      <td>30</td>\n",
       "      <td>jul</td>\n",
       "      <td>329</td>\n",
       "      <td>5</td>\n",
       "      <td>-1</td>\n",
       "      <td>0</td>\n",
       "      <td>unknown</td>\n",
       "      <td>no</td>\n",
       "    </tr>\n",
       "    <tr>\n",
       "      <th>4517</th>\n",
       "      <td>57</td>\n",
       "      <td>self-employed</td>\n",
       "      <td>married</td>\n",
       "      <td>tertiary</td>\n",
       "      <td>yes</td>\n",
       "      <td>-3313</td>\n",
       "      <td>yes</td>\n",
       "      <td>yes</td>\n",
       "      <td>unknown</td>\n",
       "      <td>9</td>\n",
       "      <td>may</td>\n",
       "      <td>153</td>\n",
       "      <td>1</td>\n",
       "      <td>-1</td>\n",
       "      <td>0</td>\n",
       "      <td>unknown</td>\n",
       "      <td>no</td>\n",
       "    </tr>\n",
       "    <tr>\n",
       "      <th>4518</th>\n",
       "      <td>57</td>\n",
       "      <td>technician</td>\n",
       "      <td>married</td>\n",
       "      <td>secondary</td>\n",
       "      <td>no</td>\n",
       "      <td>295</td>\n",
       "      <td>no</td>\n",
       "      <td>no</td>\n",
       "      <td>cellular</td>\n",
       "      <td>19</td>\n",
       "      <td>aug</td>\n",
       "      <td>151</td>\n",
       "      <td>11</td>\n",
       "      <td>-1</td>\n",
       "      <td>0</td>\n",
       "      <td>unknown</td>\n",
       "      <td>no</td>\n",
       "    </tr>\n",
       "    <tr>\n",
       "      <th>4519</th>\n",
       "      <td>28</td>\n",
       "      <td>blue-collar</td>\n",
       "      <td>married</td>\n",
       "      <td>secondary</td>\n",
       "      <td>no</td>\n",
       "      <td>1137</td>\n",
       "      <td>no</td>\n",
       "      <td>no</td>\n",
       "      <td>cellular</td>\n",
       "      <td>6</td>\n",
       "      <td>feb</td>\n",
       "      <td>129</td>\n",
       "      <td>4</td>\n",
       "      <td>211</td>\n",
       "      <td>3</td>\n",
       "      <td>other</td>\n",
       "      <td>no</td>\n",
       "    </tr>\n",
       "    <tr>\n",
       "      <th>4520</th>\n",
       "      <td>44</td>\n",
       "      <td>entrepreneur</td>\n",
       "      <td>single</td>\n",
       "      <td>tertiary</td>\n",
       "      <td>no</td>\n",
       "      <td>1136</td>\n",
       "      <td>yes</td>\n",
       "      <td>yes</td>\n",
       "      <td>cellular</td>\n",
       "      <td>3</td>\n",
       "      <td>apr</td>\n",
       "      <td>345</td>\n",
       "      <td>2</td>\n",
       "      <td>249</td>\n",
       "      <td>7</td>\n",
       "      <td>other</td>\n",
       "      <td>no</td>\n",
       "    </tr>\n",
       "  </tbody>\n",
       "</table>\n",
       "<p>4521 rows × 17 columns</p>\n",
       "</div>"
      ],
      "text/plain": [
       "      age            job  marital  education default  balance housing loan  \\\n",
       "0      30     unemployed  married    primary      no     1787      no   no   \n",
       "1      33       services  married  secondary      no     4789     yes  yes   \n",
       "2      35     management   single   tertiary      no     1350     yes   no   \n",
       "3      30     management  married   tertiary      no     1476     yes  yes   \n",
       "4      59    blue-collar  married  secondary      no        0     yes   no   \n",
       "...   ...            ...      ...        ...     ...      ...     ...  ...   \n",
       "4516   33       services  married  secondary      no     -333     yes   no   \n",
       "4517   57  self-employed  married   tertiary     yes    -3313     yes  yes   \n",
       "4518   57     technician  married  secondary      no      295      no   no   \n",
       "4519   28    blue-collar  married  secondary      no     1137      no   no   \n",
       "4520   44   entrepreneur   single   tertiary      no     1136     yes  yes   \n",
       "\n",
       "       contact  day month  duration  campaign  pdays  previous poutcome   y  \n",
       "0     cellular   19   oct        79         1     -1         0  unknown  no  \n",
       "1     cellular   11   may       220         1    339         4  failure  no  \n",
       "2     cellular   16   apr       185         1    330         1  failure  no  \n",
       "3      unknown    3   jun       199         4     -1         0  unknown  no  \n",
       "4      unknown    5   may       226         1     -1         0  unknown  no  \n",
       "...        ...  ...   ...       ...       ...    ...       ...      ...  ..  \n",
       "4516  cellular   30   jul       329         5     -1         0  unknown  no  \n",
       "4517   unknown    9   may       153         1     -1         0  unknown  no  \n",
       "4518  cellular   19   aug       151        11     -1         0  unknown  no  \n",
       "4519  cellular    6   feb       129         4    211         3    other  no  \n",
       "4520  cellular    3   apr       345         2    249         7    other  no  \n",
       "\n",
       "[4521 rows x 17 columns]"
      ]
     },
     "execution_count": 2,
     "metadata": {},
     "output_type": "execute_result"
    }
   ],
   "source": [
    "bank_csv = pd.read_csv('dataset/bank.csv', delimiter=';')\n",
    "bank_csv"
   ]
  },
  {
   "cell_type": "markdown",
   "id": "b0a5ce89",
   "metadata": {},
   "source": [
    "# Exploratory Data"
   ]
  },
  {
   "cell_type": "code",
   "execution_count": 3,
   "id": "7c508c19",
   "metadata": {},
   "outputs": [
    {
     "data": {
      "text/plain": [
       "(4521, 17)"
      ]
     },
     "execution_count": 3,
     "metadata": {},
     "output_type": "execute_result"
    }
   ],
   "source": [
    "bank_csv.shape"
   ]
  },
  {
   "cell_type": "code",
   "execution_count": 4,
   "id": "dfd8991b",
   "metadata": {},
   "outputs": [
    {
     "name": "stdout",
     "output_type": "stream",
     "text": [
      "<class 'pandas.core.frame.DataFrame'>\n",
      "RangeIndex: 4521 entries, 0 to 4520\n",
      "Data columns (total 17 columns):\n",
      " #   Column     Non-Null Count  Dtype \n",
      "---  ------     --------------  ----- \n",
      " 0   age        4521 non-null   int64 \n",
      " 1   job        4521 non-null   object\n",
      " 2   marital    4521 non-null   object\n",
      " 3   education  4521 non-null   object\n",
      " 4   default    4521 non-null   object\n",
      " 5   balance    4521 non-null   int64 \n",
      " 6   housing    4521 non-null   object\n",
      " 7   loan       4521 non-null   object\n",
      " 8   contact    4521 non-null   object\n",
      " 9   day        4521 non-null   int64 \n",
      " 10  month      4521 non-null   object\n",
      " 11  duration   4521 non-null   int64 \n",
      " 12  campaign   4521 non-null   int64 \n",
      " 13  pdays      4521 non-null   int64 \n",
      " 14  previous   4521 non-null   int64 \n",
      " 15  poutcome   4521 non-null   object\n",
      " 16  y          4521 non-null   object\n",
      "dtypes: int64(7), object(10)\n",
      "memory usage: 600.6+ KB\n"
     ]
    }
   ],
   "source": [
    "bank_csv.info()"
   ]
  },
  {
   "cell_type": "code",
   "execution_count": 5,
   "id": "72f4fbfc",
   "metadata": {},
   "outputs": [
    {
     "name": "stdout",
     "output_type": "stream",
     "text": [
      "<class 'pandas.core.frame.DataFrame'>\n",
      "RangeIndex: 4521 entries, 0 to 4520\n",
      "Data columns (total 17 columns):\n",
      " #   Column     Non-Null Count  Dtype   \n",
      "---  ------     --------------  -----   \n",
      " 0   age        4521 non-null   int64   \n",
      " 1   job        4521 non-null   category\n",
      " 2   marital    4521 non-null   category\n",
      " 3   education  4521 non-null   category\n",
      " 4   default    4521 non-null   category\n",
      " 5   balance    4521 non-null   int64   \n",
      " 6   housing    4521 non-null   category\n",
      " 7   loan       4521 non-null   category\n",
      " 8   contact    4521 non-null   category\n",
      " 9   day        4521 non-null   int64   \n",
      " 10  month      4521 non-null   category\n",
      " 11  duration   4521 non-null   int64   \n",
      " 12  campaign   4521 non-null   int64   \n",
      " 13  pdays      4521 non-null   int64   \n",
      " 14  previous   4521 non-null   int64   \n",
      " 15  poutcome   4521 non-null   category\n",
      " 16  y          4521 non-null   category\n",
      "dtypes: category(10), int64(7)\n",
      "memory usage: 293.4 KB\n"
     ]
    }
   ],
   "source": [
    "# Mengubah tipe data object menjadi category\n",
    "obj_col_list = bank_csv.columns[bank_csv.dtypes == 'object'].to_list()\n",
    "for col in obj_col_list:\n",
    "    bank_csv[col] = bank_csv[col].astype('category')\n",
    "bank_csv.info()"
   ]
  },
  {
   "cell_type": "code",
   "execution_count": 6,
   "id": "72025314",
   "metadata": {},
   "outputs": [
    {
     "data": {
      "text/plain": [
       "age          0\n",
       "job          0\n",
       "marital      0\n",
       "education    0\n",
       "default      0\n",
       "balance      0\n",
       "housing      0\n",
       "loan         0\n",
       "contact      0\n",
       "day          0\n",
       "month        0\n",
       "duration     0\n",
       "campaign     0\n",
       "pdays        0\n",
       "previous     0\n",
       "poutcome     0\n",
       "y            0\n",
       "dtype: int64"
      ]
     },
     "execution_count": 6,
     "metadata": {},
     "output_type": "execute_result"
    }
   ],
   "source": [
    "bank_csv.isnull().sum() # Untuk mengecek missing value"
   ]
  },
  {
   "cell_type": "code",
   "execution_count": 7,
   "id": "eeaa03d3",
   "metadata": {},
   "outputs": [
    {
     "data": {
      "text/html": [
       "<div>\n",
       "<style scoped>\n",
       "    .dataframe tbody tr th:only-of-type {\n",
       "        vertical-align: middle;\n",
       "    }\n",
       "\n",
       "    .dataframe tbody tr th {\n",
       "        vertical-align: top;\n",
       "    }\n",
       "\n",
       "    .dataframe thead th {\n",
       "        text-align: right;\n",
       "    }\n",
       "</style>\n",
       "<table border=\"1\" class=\"dataframe\">\n",
       "  <thead>\n",
       "    <tr style=\"text-align: right;\">\n",
       "      <th></th>\n",
       "      <th>age</th>\n",
       "      <th>balance</th>\n",
       "      <th>day</th>\n",
       "      <th>duration</th>\n",
       "      <th>campaign</th>\n",
       "      <th>pdays</th>\n",
       "      <th>previous</th>\n",
       "    </tr>\n",
       "  </thead>\n",
       "  <tbody>\n",
       "    <tr>\n",
       "      <th>count</th>\n",
       "      <td>4521.000000</td>\n",
       "      <td>4521.000000</td>\n",
       "      <td>4521.000000</td>\n",
       "      <td>4521.000000</td>\n",
       "      <td>4521.000000</td>\n",
       "      <td>4521.000000</td>\n",
       "      <td>4521.000000</td>\n",
       "    </tr>\n",
       "    <tr>\n",
       "      <th>mean</th>\n",
       "      <td>41.170095</td>\n",
       "      <td>1422.657819</td>\n",
       "      <td>15.915284</td>\n",
       "      <td>263.961292</td>\n",
       "      <td>2.793630</td>\n",
       "      <td>39.766645</td>\n",
       "      <td>0.542579</td>\n",
       "    </tr>\n",
       "    <tr>\n",
       "      <th>std</th>\n",
       "      <td>10.576211</td>\n",
       "      <td>3009.638142</td>\n",
       "      <td>8.247667</td>\n",
       "      <td>259.856633</td>\n",
       "      <td>3.109807</td>\n",
       "      <td>100.121124</td>\n",
       "      <td>1.693562</td>\n",
       "    </tr>\n",
       "    <tr>\n",
       "      <th>min</th>\n",
       "      <td>19.000000</td>\n",
       "      <td>-3313.000000</td>\n",
       "      <td>1.000000</td>\n",
       "      <td>4.000000</td>\n",
       "      <td>1.000000</td>\n",
       "      <td>-1.000000</td>\n",
       "      <td>0.000000</td>\n",
       "    </tr>\n",
       "    <tr>\n",
       "      <th>25%</th>\n",
       "      <td>33.000000</td>\n",
       "      <td>69.000000</td>\n",
       "      <td>9.000000</td>\n",
       "      <td>104.000000</td>\n",
       "      <td>1.000000</td>\n",
       "      <td>-1.000000</td>\n",
       "      <td>0.000000</td>\n",
       "    </tr>\n",
       "    <tr>\n",
       "      <th>50%</th>\n",
       "      <td>39.000000</td>\n",
       "      <td>444.000000</td>\n",
       "      <td>16.000000</td>\n",
       "      <td>185.000000</td>\n",
       "      <td>2.000000</td>\n",
       "      <td>-1.000000</td>\n",
       "      <td>0.000000</td>\n",
       "    </tr>\n",
       "    <tr>\n",
       "      <th>75%</th>\n",
       "      <td>49.000000</td>\n",
       "      <td>1480.000000</td>\n",
       "      <td>21.000000</td>\n",
       "      <td>329.000000</td>\n",
       "      <td>3.000000</td>\n",
       "      <td>-1.000000</td>\n",
       "      <td>0.000000</td>\n",
       "    </tr>\n",
       "    <tr>\n",
       "      <th>max</th>\n",
       "      <td>87.000000</td>\n",
       "      <td>71188.000000</td>\n",
       "      <td>31.000000</td>\n",
       "      <td>3025.000000</td>\n",
       "      <td>50.000000</td>\n",
       "      <td>871.000000</td>\n",
       "      <td>25.000000</td>\n",
       "    </tr>\n",
       "  </tbody>\n",
       "</table>\n",
       "</div>"
      ],
      "text/plain": [
       "               age       balance          day     duration     campaign  \\\n",
       "count  4521.000000   4521.000000  4521.000000  4521.000000  4521.000000   \n",
       "mean     41.170095   1422.657819    15.915284   263.961292     2.793630   \n",
       "std      10.576211   3009.638142     8.247667   259.856633     3.109807   \n",
       "min      19.000000  -3313.000000     1.000000     4.000000     1.000000   \n",
       "25%      33.000000     69.000000     9.000000   104.000000     1.000000   \n",
       "50%      39.000000    444.000000    16.000000   185.000000     2.000000   \n",
       "75%      49.000000   1480.000000    21.000000   329.000000     3.000000   \n",
       "max      87.000000  71188.000000    31.000000  3025.000000    50.000000   \n",
       "\n",
       "             pdays     previous  \n",
       "count  4521.000000  4521.000000  \n",
       "mean     39.766645     0.542579  \n",
       "std     100.121124     1.693562  \n",
       "min      -1.000000     0.000000  \n",
       "25%      -1.000000     0.000000  \n",
       "50%      -1.000000     0.000000  \n",
       "75%      -1.000000     0.000000  \n",
       "max     871.000000    25.000000  "
      ]
     },
     "execution_count": 7,
     "metadata": {},
     "output_type": "execute_result"
    }
   ],
   "source": [
    "bank_csv.describe() # Untuk melihat distribusi statistik"
   ]
  },
  {
   "cell_type": "code",
   "execution_count": 8,
   "id": "eb80dfd0",
   "metadata": {},
   "outputs": [
    {
     "data": {
      "text/plain": [
       "0"
      ]
     },
     "execution_count": 8,
     "metadata": {},
     "output_type": "execute_result"
    }
   ],
   "source": [
    "bank_csv.duplicated().sum() # Untuk mengecek data duplikat"
   ]
  },
  {
   "cell_type": "markdown",
   "id": "fca886fc",
   "metadata": {},
   "source": [
    "# Visualization & Analysis Data"
   ]
  },
  {
   "cell_type": "markdown",
   "id": "30da27e9",
   "metadata": {},
   "source": [
    "## By Job"
   ]
  },
  {
   "cell_type": "markdown",
   "id": "75dc1b6c",
   "metadata": {},
   "source": [
    "**Visualization**"
   ]
  },
  {
   "cell_type": "markdown",
   "id": "c2b5bc20",
   "metadata": {},
   "source": [
    "Visualisasi ini untuk mengecek berapa banyak yang membuka deposit berdasarkan pekerjaan, dan mengecek berapa rata-rata saldo dan median untuk tiap bidang pekerjaan."
   ]
  },
  {
   "cell_type": "code",
   "execution_count": 9,
   "id": "4246104f",
   "metadata": {},
   "outputs": [
    {
     "data": {
      "text/plain": [
       "<matplotlib.legend.Legend at 0x13d32b43f70>"
      ]
     },
     "execution_count": 9,
     "metadata": {},
     "output_type": "execute_result"
    },
    {
     "data": {
      "image/png": "[encoded data removed]",
      "text/plain": [
       "<Figure size 2000x500 with 2 Axes>"
      ]
     },
     "metadata": {},
     "output_type": "display_data"
    }
   ],
   "source": [
    "fig = plt.figure()\n",
    "ax0 = fig.add_subplot(1, 2, 1)\n",
    "ax1 = fig.add_subplot(1, 2, 2)\n",
    "\n",
    "job_yn = pd.DataFrame()\n",
    "job_yn['yes'] = bank_csv[bank_csv['y'] == 'yes']['job'].value_counts()\n",
    "job_yn['no'] = bank_csv[bank_csv['y'] == 'no']['job'].value_counts()\n",
    "job_yn.plot(kind='bar', ax=ax0)\n",
    "\n",
    "job_balance = bank_csv[bank_csv['y'] == 'yes']\n",
    "job_balance = job_balance.pivot_table(\n",
    "    index='job',\n",
    "    values='balance',\n",
    "    aggfunc=[np.mean, np.median]\n",
    ")\n",
    "job_balance.plot(kind='bar', ax=ax1, figsize=(20, 5))\n",
    "plt.legend(['mean', 'median'])"
   ]
  },
  {
   "cell_type": "markdown",
   "id": "9413bf32",
   "metadata": {},
   "source": [
    "**Conclusion**"
   ]
  },
  {
   "cell_type": "markdown",
   "id": "db6b7acc",
   "metadata": {},
   "source": [
    "1. Bidang pekerjaan yang paling banyak diobservasi adalah management dan blue-collar\n",
    "2. Kebanyakan dari mereka, untuk tiap bidang pekerjaan, menolak untuk membuka deposit\n",
    "3. Management yang paling banyak membuka deposit\n",
    "4. Bagi yang membuka deposit, bidang pekerjaan dengan rata - rata saldo dan median tertinggi adalah pada housemaid dan retired"
   ]
  },
  {
   "cell_type": "markdown",
   "id": "dc0a2224",
   "metadata": {},
   "source": [
    "## By Marital"
   ]
  },
  {
   "cell_type": "markdown",
   "id": "53bfc95c",
   "metadata": {},
   "source": [
    "**Visualization**"
   ]
  },
  {
   "cell_type": "markdown",
   "id": "aafa63dc",
   "metadata": {},
   "source": [
    "Menggunakan Pie Chart, akan dilihat seberapa banyak yg divorced, married, dan single."
   ]
  },
  {
   "cell_type": "code",
   "execution_count": 10,
   "id": "4ed7470a",
   "metadata": {},
   "outputs": [
    {
     "data": {
      "text/plain": [
       "Text(0.5, 1.0, 'Marital Percentage')"
      ]
     },
     "execution_count": 10,
     "metadata": {},
     "output_type": "execute_result"
    },
    {
     "data": {
      "image/png": "[encoded data removed]",
      "text/plain": [
       "<Figure size 640x480 with 1 Axes>"
      ]
     },
     "metadata": {},
     "output_type": "display_data"
    }
   ],
   "source": [
    "bank_csv['marital'].value_counts().plot(kind='pie', autopct='%1.1f%%', labels=None)\n",
    "plt.legend(labels=bank_csv['marital'], loc='upper left')\n",
    "plt.title('Marital Percentage')"
   ]
  },
  {
   "cell_type": "markdown",
   "id": "24a65067",
   "metadata": {},
   "source": [
    "Sama seperti job, disini akan dicek berapa banyak yang membuka deposit berdasarkan marital dan berapa banyak rata - rata balance dan mediannya."
   ]
  },
  {
   "cell_type": "code",
   "execution_count": 11,
   "id": "d9a481c6",
   "metadata": {},
   "outputs": [
    {
     "data": {
      "text/plain": [
       "<matplotlib.legend.Legend at 0x13d34dd0160>"
      ]
     },
     "execution_count": 11,
     "metadata": {},
     "output_type": "execute_result"
    },
    {
     "data": {
      "image/png": "[encoded data removed]",
      "text/plain": [
       "<Figure size 2000x500 with 2 Axes>"
      ]
     },
     "metadata": {},
     "output_type": "display_data"
    }
   ],
   "source": [
    "fig = plt.figure()\n",
    "ax0 = fig.add_subplot(1, 2, 1)\n",
    "ax1 = fig.add_subplot(1, 2, 2)\n",
    "\n",
    "marital_yn = pd.DataFrame()\n",
    "marital_yn['yes'] = bank_csv[bank_csv['y'] == 'yes']['marital'].value_counts()\n",
    "marital_yn['no'] = bank_csv[bank_csv['y'] == 'no']['marital'].value_counts()\n",
    "marital_yn.plot(kind='bar', ax=ax0)\n",
    "\n",
    "marital_balance = bank_csv[bank_csv['y'] == 'yes']\n",
    "marital_balance = marital_balance.pivot_table(\n",
    "    index='marital',\n",
    "    values='balance',\n",
    "    aggfunc=[np.mean, np.median]\n",
    ")\n",
    "marital_balance.plot(kind='bar', ax=ax1, figsize=(20, 5))\n",
    "plt.legend(['mean', 'median'])"
   ]
  },
  {
   "cell_type": "markdown",
   "id": "fe66785e",
   "metadata": {},
   "source": [
    "**Conclusion**"
   ]
  },
  {
   "cell_type": "markdown",
   "id": "ee08c533",
   "metadata": {},
   "source": [
    "1. Lebih banyak yang telah married dibandingkan status marital lainnya\n",
    "2. Sama seperti job, rata - rata lebih banyak yang tidak membuka deposit\n",
    "3. Married lebih banyak yang membuka deposit\n",
    "4. Balance married yang tertinggi, sedangkan divorced dan single memiliki nilai yang berdekatan"
   ]
  },
  {
   "cell_type": "markdown",
   "id": "3b1f3fd7",
   "metadata": {},
   "source": [
    "## By Education"
   ]
  },
  {
   "cell_type": "markdown",
   "id": "5a6ef8df",
   "metadata": {},
   "source": [
    "**Visualization**"
   ]
  },
  {
   "cell_type": "markdown",
   "id": "73462e2d",
   "metadata": {},
   "source": [
    "Melihat hubungan antara education terhadap martial dan job"
   ]
  },
  {
   "cell_type": "code",
   "execution_count": 12,
   "id": "da20c2d6",
   "metadata": {},
   "outputs": [
    {
     "data": {
      "text/plain": [
       "<Axes: xlabel='marital'>"
      ]
     },
     "execution_count": 12,
     "metadata": {},
     "output_type": "execute_result"
    },
    {
     "data": {
      "image/png": "[encoded data removed]",
      "text/plain": [
       "<Figure size 2000x500 with 2 Axes>"
      ]
     },
     "metadata": {},
     "output_type": "display_data"
    }
   ],
   "source": [
    "fig = plt.figure()\n",
    "ax0 = fig.add_subplot(1, 2, 1)\n",
    "ax1 = fig.add_subplot(1, 2, 2)\n",
    "\n",
    "\n",
    "edu_list = list(bank_csv['education'].unique())\n",
    "\n",
    "edu_job = pd.DataFrame()\n",
    "for edu in edu_list:\n",
    "    edu_job[edu] = bank_csv[bank_csv['education'] == edu]['job'].value_counts()\n",
    "edu_job.plot(kind='bar', ax=ax0)\n",
    "\n",
    "edu_marital = pd.DataFrame()\n",
    "for edu in edu_list:\n",
    "    edu_marital[edu] = bank_csv[bank_csv['education'] == edu]['marital'].value_counts()\n",
    "edu_marital.plot(kind='bar', ax=ax1, figsize=(20, 5))"
   ]
  },
  {
   "cell_type": "markdown",
   "id": "27faa658",
   "metadata": {},
   "source": [
    "**Conclusion**"
   ]
  },
  {
   "cell_type": "markdown",
   "id": "c0649319",
   "metadata": {},
   "source": [
    "1. Kebanyakan dari mereka di tiap bidang pekerjaan telah menyelesaikan secondary dan tertiary\n",
    "2. Tidak ada perbedaan yang signifikan pada hubungan marital dengan education, hanya berbeda jumlah data yang diobservasi"
   ]
  },
  {
   "cell_type": "markdown",
   "id": "0fd5e5f5",
   "metadata": {},
   "source": [
    "## Correlation"
   ]
  },
  {
   "cell_type": "markdown",
   "id": "cdd8af55",
   "metadata": {},
   "source": [
    "**Visualization**"
   ]
  },
  {
   "cell_type": "markdown",
   "id": "daeed3bb",
   "metadata": {},
   "source": [
    "Digunakan untuk melihat korelasi antar kolom"
   ]
  },
  {
   "cell_type": "code",
   "execution_count": 13,
   "id": "5e3d6f98",
   "metadata": {},
   "outputs": [
    {
     "data": {
      "image/png": "[encoded data removed]",
      "text/plain": [
       "<Figure size 640x480 with 2 Axes>"
      ]
     },
     "metadata": {},
     "output_type": "display_data"
    },
    {
     "data": {
      "text/plain": [
       "<Figure size 2000x2000 with 0 Axes>"
      ]
     },
     "metadata": {},
     "output_type": "display_data"
    }
   ],
   "source": [
    "cat_col_list = bank_csv.columns[bank_csv.dtypes == 'category'].to_list()\n",
    "for col in cat_col_list:\n",
    "    bank_csv[col] = preprocessing.LabelEncoder().fit_transform(bank_csv[col])\n",
    "\n",
    "x = bank_csv.iloc[:, 0:16]\n",
    "y = bank_csv.iloc[:, -1]\n",
    "\n",
    "corrmat = bank_csv.corr()\n",
    "sns.heatmap(bank_csv[corrmat.index].corr(),cmap=\"RdBu_r\")\n",
    "plt.title(\"Correlation Matrix\", fontsize=16)\n",
    "plt.figure(figsize=(20, 20))\n",
    "plt.show()"
   ]
  },
  {
   "cell_type": "markdown",
   "id": "29c32a4a",
   "metadata": {},
   "source": [
    "**Conclusion**"
   ]
  },
  {
   "cell_type": "markdown",
   "id": "cf8b9349",
   "metadata": {},
   "source": [
    "Dari hasil visualisasi heatmap, kolom duration memiliki korelasi paling kuat terhadap y dibandingkan kolom lainnya."
   ]
  },
  {
   "cell_type": "markdown",
   "id": "729797aa",
   "metadata": {},
   "source": [
    "## Features Importance"
   ]
  },
  {
   "cell_type": "markdown",
   "id": "06433b91",
   "metadata": {},
   "source": [
    "**Visualization**"
   ]
  },
  {
   "cell_type": "markdown",
   "id": "b5b359d5",
   "metadata": {},
   "source": [
    "Bagian ini digunakan untuk melihat kolom yang penting dan paling berpengaruh kepada kolom y."
   ]
  },
  {
   "cell_type": "code",
   "execution_count": 14,
   "id": "77dfe8e5",
   "metadata": {},
   "outputs": [
    {
     "data": {
      "image/png": "[encoded data removed]",
      "text/plain": [
       "<Figure size 640x480 with 1 Axes>"
      ]
     },
     "metadata": {},
     "output_type": "display_data"
    }
   ],
   "source": [
    "model = ExtraTreesClassifier()\n",
    "model.fit(x, y)\n",
    "feat_importances = pd.Series(model.feature_importances_, index=x.columns)\n",
    "feat_importances.nlargest(10).plot(kind='barh')\n",
    "plt.show()"
   ]
  },
  {
   "cell_type": "markdown",
   "id": "c0aa9d8d",
   "metadata": {},
   "source": [
    "**Concusion**"
   ]
  },
  {
   "cell_type": "markdown",
   "id": "61efba4a",
   "metadata": {},
   "source": [
    "Sama seperti correlation, duration paling berpengaruh untuk kolom y. Selain duration, pengaruh paling besar selanjutnya diikuti oleh month, age, day, balance, job."
   ]
  },
  {
   "cell_type": "markdown",
   "id": "2e3c76a4",
   "metadata": {},
   "source": [
    "# Classification Model"
   ]
  },
  {
   "cell_type": "code",
   "execution_count": 15,
   "id": "caad878d",
   "metadata": {},
   "outputs": [],
   "source": [
    "x_train, x_test, y_train, y_test = train_test_split(x, y, test_size=0.3, random_state=42)"
   ]
  },
  {
   "cell_type": "markdown",
   "id": "1ddf6060",
   "metadata": {},
   "source": [
    "## Logistic Regresion"
   ]
  },
  {
   "cell_type": "markdown",
   "id": "583d9843",
   "metadata": {},
   "source": [
    "**Model**"
   ]
  },
  {
   "cell_type": "code",
   "execution_count": 16,
   "id": "545f2685",
   "metadata": {},
   "outputs": [],
   "source": [
    "model = LogisticRegression(solver='liblinear')\n",
    "model.fit(x_train, y_train)\n",
    "pred_test=model.predict(x_test)"
   ]
  },
  {
   "cell_type": "markdown",
   "id": "404f3ea0",
   "metadata": {},
   "source": [
    "**Result**"
   ]
  },
  {
   "cell_type": "code",
   "execution_count": 17,
   "id": "29a968f6",
   "metadata": {},
   "outputs": [
    {
     "name": "stdout",
     "output_type": "stream",
     "text": [
      "Accuracy Score : 0.8887251289609432 \n",
      "\n",
      "Confusion Matrix :\n",
      " [[1176   29]\n",
      " [ 122   30]] \n",
      "\n",
      "Classfication Report :\n",
      "               precision    recall  f1-score   support\n",
      "\n",
      "           0       0.91      0.98      0.94      1205\n",
      "           1       0.51      0.20      0.28       152\n",
      "\n",
      "    accuracy                           0.89      1357\n",
      "   macro avg       0.71      0.59      0.61      1357\n",
      "weighted avg       0.86      0.89      0.87      1357\n",
      "\n"
     ]
    }
   ],
   "source": [
    "print(\"Accuracy Score :\",accuracy_score(y_test, pred_test),\"\\n\")\n",
    "matrix=confusion_matrix(y_test, pred_test)\n",
    "print(\"Confusion Matrix :\\n\",matrix,\"\\n\")\n",
    "print(\"Classfication Report :\\n\",classification_report(y_test, pred_test))"
   ]
  },
  {
   "cell_type": "markdown",
   "id": "dd2a27ee",
   "metadata": {},
   "source": [
    "## KNN"
   ]
  },
  {
   "cell_type": "markdown",
   "id": "540e2043",
   "metadata": {},
   "source": [
    "**Model**"
   ]
  },
  {
   "cell_type": "code",
   "execution_count": 18,
   "id": "c82c4e80",
   "metadata": {},
   "outputs": [],
   "source": [
    "model = KNeighborsClassifier()\n",
    "model.fit(x_train, y_train)\n",
    "pred_test=model.predict(x_test)"
   ]
  },
  {
   "cell_type": "markdown",
   "id": "ad10f4f3",
   "metadata": {},
   "source": [
    "**Result**"
   ]
  },
  {
   "cell_type": "code",
   "execution_count": 19,
   "id": "83383406",
   "metadata": {},
   "outputs": [
    {
     "name": "stdout",
     "output_type": "stream",
     "text": [
      "Accuracy Score : 0.8754605747973471 \n",
      "\n",
      "Confusion Matrix :\n",
      " [[1154   51]\n",
      " [ 118   34]] \n",
      "\n",
      "Classfication Report :\n",
      "               precision    recall  f1-score   support\n",
      "\n",
      "           0       0.91      0.96      0.93      1205\n",
      "           1       0.40      0.22      0.29       152\n",
      "\n",
      "    accuracy                           0.88      1357\n",
      "   macro avg       0.65      0.59      0.61      1357\n",
      "weighted avg       0.85      0.88      0.86      1357\n",
      "\n"
     ]
    }
   ],
   "source": [
    "print(\"Accuracy Score :\",accuracy_score(y_test, pred_test),\"\\n\")\n",
    "matrix=confusion_matrix(y_test, pred_test)\n",
    "print(\"Confusion Matrix :\\n\",matrix,\"\\n\")\n",
    "print(\"Classfication Report :\\n\",classification_report(y_test, pred_test))"
   ]
  },
  {
   "cell_type": "markdown",
   "id": "8b6b922a",
   "metadata": {},
   "source": [
    "## SVM"
   ]
  },
  {
   "cell_type": "markdown",
   "id": "a21ac435",
   "metadata": {},
   "source": [
    "**Model**"
   ]
  },
  {
   "cell_type": "code",
   "execution_count": 20,
   "id": "31d07f26",
   "metadata": {},
   "outputs": [],
   "source": [
    "model = svm.SVC()\n",
    "model.fit(x_train, y_train)\n",
    "pred_test=model.predict(x_test)"
   ]
  },
  {
   "cell_type": "markdown",
   "id": "74d52ffc",
   "metadata": {},
   "source": [
    "**Result**"
   ]
  },
  {
   "cell_type": "code",
   "execution_count": 21,
   "id": "7249c88b",
   "metadata": {},
   "outputs": [
    {
     "name": "stdout",
     "output_type": "stream",
     "text": [
      "Accuracy Score : 0.8872512896094326 \n",
      "\n",
      "Confusion Matrix :\n",
      " [[1204    1]\n",
      " [ 152    0]] \n",
      "\n",
      "Classfication Report :\n",
      "               precision    recall  f1-score   support\n",
      "\n",
      "           0       0.89      1.00      0.94      1205\n",
      "           1       0.00      0.00      0.00       152\n",
      "\n",
      "    accuracy                           0.89      1357\n",
      "   macro avg       0.44      0.50      0.47      1357\n",
      "weighted avg       0.79      0.89      0.83      1357\n",
      "\n"
     ]
    }
   ],
   "source": [
    "print(\"Accuracy Score :\",accuracy_score(y_test, pred_test),\"\\n\")\n",
    "matrix=confusion_matrix(y_test, pred_test)\n",
    "print(\"Confusion Matrix :\\n\",matrix,\"\\n\")\n",
    "print(\"Classfication Report :\\n\",classification_report(y_test, pred_test))"
   ]
  },
  {
   "cell_type": "markdown",
   "id": "2defa688",
   "metadata": {},
   "source": [
    "## Decision Tree"
   ]
  },
  {
   "cell_type": "markdown",
   "id": "434c63e5",
   "metadata": {},
   "source": [
    "**Model**"
   ]
  },
  {
   "cell_type": "code",
   "execution_count": 22,
   "id": "2a24c241",
   "metadata": {},
   "outputs": [],
   "source": [
    "model = DecisionTreeClassifier()\n",
    "model.fit(x_train, y_train)\n",
    "pred_test=model.predict(x_test)"
   ]
  },
  {
   "cell_type": "markdown",
   "id": "38d29f82",
   "metadata": {},
   "source": [
    "**Result**"
   ]
  },
  {
   "cell_type": "code",
   "execution_count": 23,
   "id": "69e35e7c",
   "metadata": {},
   "outputs": [
    {
     "name": "stdout",
     "output_type": "stream",
     "text": [
      "Accuracy Score : 0.8592483419307295 \n",
      "\n",
      "Confusion Matrix :\n",
      " [[1112   93]\n",
      " [  98   54]] \n",
      "\n",
      "Classfication Report :\n",
      "               precision    recall  f1-score   support\n",
      "\n",
      "           0       0.92      0.92      0.92      1205\n",
      "           1       0.37      0.36      0.36       152\n",
      "\n",
      "    accuracy                           0.86      1357\n",
      "   macro avg       0.64      0.64      0.64      1357\n",
      "weighted avg       0.86      0.86      0.86      1357\n",
      "\n"
     ]
    }
   ],
   "source": [
    "print(\"Accuracy Score :\",accuracy_score(y_test, pred_test),\"\\n\")\n",
    "matrix=confusion_matrix(y_test, pred_test)\n",
    "print(\"Confusion Matrix :\\n\",matrix,\"\\n\")\n",
    "print(\"Classfication Report :\\n\",classification_report(y_test, pred_test))"
   ]
  },
  {
   "cell_type": "markdown",
   "id": "35018568",
   "metadata": {},
   "source": [
    "## Random Forest"
   ]
  },
  {
   "cell_type": "markdown",
   "id": "8df30b3e",
   "metadata": {},
   "source": [
    "**Model**"
   ]
  },
  {
   "cell_type": "code",
   "execution_count": 24,
   "id": "55d7eb93",
   "metadata": {},
   "outputs": [],
   "source": [
    "model = RandomForestClassifier()\n",
    "model.fit(x_train, y_train)\n",
    "pred_test=model.predict(x_test)"
   ]
  },
  {
   "cell_type": "markdown",
   "id": "30db03f3",
   "metadata": {},
   "source": [
    "**Result**"
   ]
  },
  {
   "cell_type": "code",
   "execution_count": 25,
   "id": "cd5d115f",
   "metadata": {},
   "outputs": [
    {
     "name": "stdout",
     "output_type": "stream",
     "text": [
      "Accuracy Score : 0.8953574060427414 \n",
      "\n",
      "Confusion Matrix :\n",
      " [[1174   31]\n",
      " [ 111   41]] \n",
      "\n",
      "Classfication Report :\n",
      "               precision    recall  f1-score   support\n",
      "\n",
      "           0       0.91      0.97      0.94      1205\n",
      "           1       0.57      0.27      0.37       152\n",
      "\n",
      "    accuracy                           0.90      1357\n",
      "   macro avg       0.74      0.62      0.65      1357\n",
      "weighted avg       0.88      0.90      0.88      1357\n",
      "\n"
     ]
    }
   ],
   "source": [
    "print(\"Accuracy Score :\",accuracy_score(y_test, pred_test),\"\\n\")\n",
    "matrix=confusion_matrix(y_test, pred_test)\n",
    "print(\"Confusion Matrix :\\n\",matrix,\"\\n\")\n",
    "print(\"Classfication Report :\\n\",classification_report(y_test, pred_test))"
   ]
  },
  {
   "cell_type": "markdown",
   "id": "873bd70e",
   "metadata": {},
   "source": [
    "## Naive Bayyes"
   ]
  },
  {
   "cell_type": "markdown",
   "id": "0952266c",
   "metadata": {},
   "source": [
    "**Model**"
   ]
  },
  {
   "cell_type": "code",
   "execution_count": 26,
   "id": "41e9c73e",
   "metadata": {},
   "outputs": [],
   "source": [
    "model = GaussianNB()\n",
    "model.fit(x_train, y_train)\n",
    "pred_test=model.predict(x_test)"
   ]
  },
  {
   "cell_type": "markdown",
   "id": "580e6b71",
   "metadata": {},
   "source": [
    "**Result**"
   ]
  },
  {
   "cell_type": "code",
   "execution_count": 27,
   "id": "a548ea52",
   "metadata": {},
   "outputs": [
    {
     "name": "stdout",
     "output_type": "stream",
     "text": [
      "Accuracy Score : 0.8253500368459837 \n",
      "\n",
      "Confusion Matrix :\n",
      " [[1049  156]\n",
      " [  81   71]] \n",
      "\n",
      "Classfication Report :\n",
      "               precision    recall  f1-score   support\n",
      "\n",
      "           0       0.93      0.87      0.90      1205\n",
      "           1       0.31      0.47      0.37       152\n",
      "\n",
      "    accuracy                           0.83      1357\n",
      "   macro avg       0.62      0.67      0.64      1357\n",
      "weighted avg       0.86      0.83      0.84      1357\n",
      "\n"
     ]
    }
   ],
   "source": [
    "print(\"Accuracy Score :\",accuracy_score(y_test, pred_test),\"\\n\")\n",
    "matrix=confusion_matrix(y_test, pred_test)\n",
    "print(\"Confusion Matrix :\\n\",matrix,\"\\n\")\n",
    "print(\"Classfication Report :\\n\",classification_report(y_test, pred_test))"
   ]
  },
  {
   "cell_type": "markdown",
   "id": "796abbb1",
   "metadata": {},
   "source": [
    "## Algorithm Analysis"
   ]
  },
  {
   "cell_type": "markdown",
   "id": "63039b13",
   "metadata": {},
   "source": [
    "Untuk mengembangkan Machine Learning dataset ini, maka model algoritma yang dipilih adalah Random Forest dikarenakan dari classification reportnya ditunjukkan bahwa akurasinya paling tinggi dibandingkan model algoritma lainnya."
   ]
  }
 ],
 "metadata": {
  "kernelspec": {
   "display_name": "Python 3 (ipykernel)",
   "language": "python",
   "name": "python3"
  },
  "language_info": {
   "codemirror_mode": {
    "name": "ipython",
    "version": 3
   },
   "file_extension": ".py",
   "mimetype": "text/x-python",
   "name": "python",
   "nbconvert_exporter": "python",
   "pygments_lexer": "ipython3",
   "version": "3.8.6"
  },
  "toc": {
   "base_numbering": 1,
   "nav_menu": {},
   "number_sections": true,
   "sideBar": true,
   "skip_h1_title": false,
   "title_cell": "Table of Contents",
   "title_sidebar": "Contents",
   "toc_cell": false,
   "toc_position": {},
   "toc_section_display": true,
   "toc_window_display": false
  }
 },
 "nbformat": 4,
 "nbformat_minor": 5
}
